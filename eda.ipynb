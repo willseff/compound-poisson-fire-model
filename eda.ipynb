{
 "cells": [
  {
   "cell_type": "code",
   "execution_count": null,
   "id": "c261788f",
   "metadata": {},
   "outputs": [],
   "source": [
    "import pandas as pd\n",
    "import matplotlib.pyplot as plt\n",
    "import numpy as np\n",
    "\n",
    "# time series analysis\n",
    "from statsmodels.tsa.seasonal import seasonal_decompose\n",
    "from statsmodels.tsa.statespace.sarimax import SARIMAX"
   ]
  },
  {
   "cell_type": "code",
   "execution_count": 2,
   "id": "dabd89a3",
   "metadata": {},
   "outputs": [
    {
     "name": "stdout",
     "output_type": "stream",
     "text": [
      "3\n",
      "YEAR                  0.000000\n",
      "NFIREID               0.000000\n",
      "BASRC                 0.000000\n",
      "FIREMAPS              0.000000\n",
      "FIREMAPM              0.000000\n",
      "FIRECAUS              0.000000\n",
      "HS_SDATE             72.226650\n",
      "HS_EDATE             72.226650\n",
      "AG_SDATE             23.439384\n",
      "AG_EDATE             67.686303\n",
      "CAPDATE              61.382537\n",
      "POLY_HA               0.000000\n",
      "ADJ_HA                0.000000\n",
      "ADJ_FLAG             42.763440\n",
      "ADMIN_AREA            0.000000\n",
      "NATPARK              95.553648\n",
      "PRESCRIBED           99.327735\n",
      "VERSION               0.000000\n",
      "GID                   0.000000\n",
      "before_after_2006     0.000000\n",
      "dtype: float64\n"
     ]
    }
   ],
   "source": [
    "# Load the Excel file\n",
    "excel_file = \"nbac_summarystats_1972_2023_20240530.xlsx\"\n",
    "\n",
    "df = pd.read_excel(excel_file, sheet_name='nbac_1972_2023_20240530')\n",
    "\n",
    "# drop the first 3 rows and make the 4th row header\n",
    "df.columns = df.iloc[3]\n",
    "df = df.drop(index=[0, 1, 2, 3])\n",
    "df = df.reset_index(drop=True)\n",
    "\n",
    "# Convert columns to appropriate types\n",
    "df['YEAR'] = df['YEAR'].astype(int)\n",
    "df['ADJ_HA'] = df['ADJ_HA'].astype(float)\n",
    "\n",
    "# make a column for before and after 2006\n",
    "df['before_after_2006'] = df['YEAR'].apply(lambda x: 'before' if x <= 2006 else 'after')\n",
    "\n",
    "# get percetage null for each column\n",
    "def get_percentage_null(df):\n",
    "    return df.isnull().sum() / len(df) * 100\n",
    "percentage_null = get_percentage_null(df)\n",
    "print(percentage_null)"
   ]
  },
  {
   "cell_type": "code",
   "execution_count": null,
   "id": "348feb83",
   "metadata": {},
   "outputs": [
    {
     "data": {
      "text/html": [
       "<div>\n",
       "<style scoped>\n",
       "    .dataframe tbody tr th:only-of-type {\n",
       "        vertical-align: middle;\n",
       "    }\n",
       "\n",
       "    .dataframe tbody tr th {\n",
       "        vertical-align: top;\n",
       "    }\n",
       "\n",
       "    .dataframe thead th {\n",
       "        text-align: right;\n",
       "    }\n",
       "</style>\n",
       "<table border=\"1\" class=\"dataframe\">\n",
       "  <thead>\n",
       "    <tr style=\"text-align: right;\">\n",
       "      <th>3</th>\n",
       "      <th>YEAR</th>\n",
       "      <th>NFIREID</th>\n",
       "      <th>BASRC</th>\n",
       "      <th>FIREMAPS</th>\n",
       "      <th>FIREMAPM</th>\n",
       "      <th>FIRECAUS</th>\n",
       "      <th>HS_SDATE</th>\n",
       "      <th>HS_EDATE</th>\n",
       "      <th>AG_SDATE</th>\n",
       "      <th>AG_EDATE</th>\n",
       "      <th>CAPDATE</th>\n",
       "      <th>POLY_HA</th>\n",
       "      <th>ADJ_HA</th>\n",
       "      <th>ADJ_FLAG</th>\n",
       "      <th>ADMIN_AREA</th>\n",
       "      <th>NATPARK</th>\n",
       "      <th>PRESCRIBED</th>\n",
       "      <th>VERSION</th>\n",
       "      <th>GID</th>\n",
       "      <th>before_after_2006</th>\n",
       "    </tr>\n",
       "  </thead>\n",
       "  <tbody>\n",
       "    <tr>\n",
       "      <th>0</th>\n",
       "      <td>2022</td>\n",
       "      <td>439</td>\n",
       "      <td>MAFiMS</td>\n",
       "      <td>Sentinel-2</td>\n",
       "      <td>Processed imagery</td>\n",
       "      <td>Natural</td>\n",
       "      <td>2022-06-28 00:00:00</td>\n",
       "      <td>2022-10-02 00:00:00</td>\n",
       "      <td>2022-06-26 00:00:00</td>\n",
       "      <td>NaN</td>\n",
       "      <td>2022-09-16 00:00:00</td>\n",
       "      <td>45023.957801</td>\n",
       "      <td>45023.957801</td>\n",
       "      <td>NaN</td>\n",
       "      <td>AB</td>\n",
       "      <td>NaN</td>\n",
       "      <td>NaN</td>\n",
       "      <td>20240530</td>\n",
       "      <td>2022_439</td>\n",
       "      <td>after</td>\n",
       "    </tr>\n",
       "    <tr>\n",
       "      <th>1</th>\n",
       "      <td>2022</td>\n",
       "      <td>74</td>\n",
       "      <td>MAFiMS</td>\n",
       "      <td>Sentinel-2</td>\n",
       "      <td>Processed imagery</td>\n",
       "      <td>Natural</td>\n",
       "      <td>2022-07-07 00:00:00</td>\n",
       "      <td>2022-07-08 00:00:00</td>\n",
       "      <td>2022-07-08 00:00:00</td>\n",
       "      <td>2022-07-18 00:00:00</td>\n",
       "      <td>2022-09-08 00:00:00</td>\n",
       "      <td>737.755249</td>\n",
       "      <td>737.755249</td>\n",
       "      <td>NaN</td>\n",
       "      <td>NT</td>\n",
       "      <td>NaN</td>\n",
       "      <td>NaN</td>\n",
       "      <td>20240530</td>\n",
       "      <td>2022_74</td>\n",
       "      <td>after</td>\n",
       "    </tr>\n",
       "    <tr>\n",
       "      <th>2</th>\n",
       "      <td>2022</td>\n",
       "      <td>149</td>\n",
       "      <td>MAFiMS</td>\n",
       "      <td>Landsat</td>\n",
       "      <td>Processed imagery</td>\n",
       "      <td>Natural</td>\n",
       "      <td>2022-07-08 00:00:00</td>\n",
       "      <td>2022-08-26 00:00:00</td>\n",
       "      <td>2022-06-21 00:00:00</td>\n",
       "      <td>2022-11-03 00:00:00</td>\n",
       "      <td>2022-10-22 00:00:00</td>\n",
       "      <td>9572.430492</td>\n",
       "      <td>9572.430492</td>\n",
       "      <td>NaN</td>\n",
       "      <td>NT</td>\n",
       "      <td>NaN</td>\n",
       "      <td>NaN</td>\n",
       "      <td>20240530</td>\n",
       "      <td>2022_149</td>\n",
       "      <td>after</td>\n",
       "    </tr>\n",
       "    <tr>\n",
       "      <th>3</th>\n",
       "      <td>2022</td>\n",
       "      <td>156</td>\n",
       "      <td>MAFiMS</td>\n",
       "      <td>Sentinel-2</td>\n",
       "      <td>Processed imagery</td>\n",
       "      <td>Natural</td>\n",
       "      <td>2022-08-17 00:00:00</td>\n",
       "      <td>2022-10-03 00:00:00</td>\n",
       "      <td>2022-08-18 00:00:00</td>\n",
       "      <td>2022-10-27 00:00:00</td>\n",
       "      <td>2022-10-17 00:00:00</td>\n",
       "      <td>26761.761894</td>\n",
       "      <td>26761.761894</td>\n",
       "      <td>NaN</td>\n",
       "      <td>NT</td>\n",
       "      <td>NaN</td>\n",
       "      <td>NaN</td>\n",
       "      <td>20240530</td>\n",
       "      <td>2022_156</td>\n",
       "      <td>after</td>\n",
       "    </tr>\n",
       "    <tr>\n",
       "      <th>4</th>\n",
       "      <td>2022</td>\n",
       "      <td>281</td>\n",
       "      <td>MAFiMS</td>\n",
       "      <td>Sentinel-2</td>\n",
       "      <td>Processed imagery</td>\n",
       "      <td>Undetermined</td>\n",
       "      <td>2022-07-04 00:00:00</td>\n",
       "      <td>2022-07-07 00:00:00</td>\n",
       "      <td>NaN</td>\n",
       "      <td>NaN</td>\n",
       "      <td>2022-08-23 00:00:00</td>\n",
       "      <td>400.728797</td>\n",
       "      <td>400.728797</td>\n",
       "      <td>NaN</td>\n",
       "      <td>YT</td>\n",
       "      <td>NaN</td>\n",
       "      <td>NaN</td>\n",
       "      <td>20240530</td>\n",
       "      <td>2022_281</td>\n",
       "      <td>after</td>\n",
       "    </tr>\n",
       "  </tbody>\n",
       "</table>\n",
       "</div>"
      ],
      "text/plain": [
       "3  YEAR NFIREID   BASRC    FIREMAPS           FIREMAPM      FIRECAUS  \\\n",
       "0  2022     439  MAFiMS  Sentinel-2  Processed imagery       Natural   \n",
       "1  2022      74  MAFiMS  Sentinel-2  Processed imagery       Natural   \n",
       "2  2022     149  MAFiMS     Landsat  Processed imagery       Natural   \n",
       "3  2022     156  MAFiMS  Sentinel-2  Processed imagery       Natural   \n",
       "4  2022     281  MAFiMS  Sentinel-2  Processed imagery  Undetermined   \n",
       "\n",
       "3             HS_SDATE             HS_EDATE             AG_SDATE  \\\n",
       "0  2022-06-28 00:00:00  2022-10-02 00:00:00  2022-06-26 00:00:00   \n",
       "1  2022-07-07 00:00:00  2022-07-08 00:00:00  2022-07-08 00:00:00   \n",
       "2  2022-07-08 00:00:00  2022-08-26 00:00:00  2022-06-21 00:00:00   \n",
       "3  2022-08-17 00:00:00  2022-10-03 00:00:00  2022-08-18 00:00:00   \n",
       "4  2022-07-04 00:00:00  2022-07-07 00:00:00                  NaN   \n",
       "\n",
       "3             AG_EDATE              CAPDATE       POLY_HA        ADJ_HA  \\\n",
       "0                  NaN  2022-09-16 00:00:00  45023.957801  45023.957801   \n",
       "1  2022-07-18 00:00:00  2022-09-08 00:00:00    737.755249    737.755249   \n",
       "2  2022-11-03 00:00:00  2022-10-22 00:00:00   9572.430492   9572.430492   \n",
       "3  2022-10-27 00:00:00  2022-10-17 00:00:00  26761.761894  26761.761894   \n",
       "4                  NaN  2022-08-23 00:00:00    400.728797    400.728797   \n",
       "\n",
       "3 ADJ_FLAG ADMIN_AREA NATPARK PRESCRIBED   VERSION       GID before_after_2006  \n",
       "0      NaN         AB     NaN        NaN  20240530  2022_439             after  \n",
       "1      NaN         NT     NaN        NaN  20240530   2022_74             after  \n",
       "2      NaN         NT     NaN        NaN  20240530  2022_149             after  \n",
       "3      NaN         NT     NaN        NaN  20240530  2022_156             after  \n",
       "4      NaN         YT     NaN        NaN  20240530  2022_281             after  "
      ]
     },
     "execution_count": 3,
     "metadata": {},
     "output_type": "execute_result"
    }
   ],
   "source": []
  },
  {
   "cell_type": "code",
   "execution_count": null,
   "id": "1b47cb85",
   "metadata": {},
   "outputs": [],
   "source": [
    "# change the HS_EDATE AG_SDATE AG_EDATE CAPDATE columns to datetime\n",
    "df['HS_EDATE'] = pd.to_datetime(df['HS_EDATE'], errors='coerce')\n",
    "df['HS_SDATE'] = pd.to_datetime(df['HS_SDATE'], errors='coerce')\n",
    "df['AG_SDATE'] = pd.to_datetime(df['AG_SDATE'], errors='coerce')\n",
    "df['AG_EDATE'] = pd.to_datetime(df['AG_EDATE'], errors='coerce')\n",
    "df['CAPDATE'] = pd.to_datetime(df['CAPDATE'], errors='coerce')\n",
    "\n",
    "# make a new col for the middle of the AG_SDATE nd the AG_EDATE\n",
    "df['HS_MID'] = (\n",
    "    (df['HS_SDATE'].astype('int64') + df['HS_EDATE'].astype('int64')) // 2\n",
    ").astype('datetime64[ns]')\n",
    "\n",
    "# change the AG_MID column to datetime\n",
    "df['AG_MID'] = pd.to_datetime(df['AG_MID'], errors='coerce')\n",
    "\n",
    "# make a new column for the month\n",
    "df['month'] = df['AG_SDATE'].dt.month"
   ]
  },
  {
   "cell_type": "code",
   "execution_count": 50,
   "id": "0a809559",
   "metadata": {},
   "outputs": [
    {
     "data": {
      "image/png": "[encoded data removed]",
      "text/plain": [
       "<Figure size 432x288 with 1 Axes>"
      ]
     },
     "metadata": {
      "needs_background": "light"
     },
     "output_type": "display_data"
    }
   ],
   "source": [
    "# see the distribtuion of ADJ_HA for the observations with null AG_SDATE\n",
    "# get the distribution of ADJ_HA\n",
    "plt.hist(df['ADJ_HA'].dropna(), bins=1000)\n",
    "plt.xlabel('ADJ_HA')\n",
    "plt.ylabel('Frequency')\n",
    "plt.title('Distribution of ADJ_HA')\n",
    "plt.xlim(0, 10000)\n",
    "plt.show()\n"
   ]
  },
  {
   "cell_type": "code",
   "execution_count": 49,
   "id": "e5b48ccb",
   "metadata": {},
   "outputs": [
    {
     "data": {
      "image/png": "[encoded data removed]",
      "text/plain": [
       "<Figure size 432x288 with 1 Axes>"
      ]
     },
     "metadata": {
      "needs_background": "light"
     },
     "output_type": "display_data"
    }
   ],
   "source": [
    "# see the disributrion of the ADJ_HA for the observations with not null AG_SDATE\n",
    "plt.hist(df['ADJ_HA'][df['AG_SDATE'].notnull()], bins=1000)\n",
    "plt.xlabel('ADJ_HA')\n",
    "plt.ylabel('Frequency')\n",
    "plt.title('Distribution of ADJ_HA for AG_SDATE not null')\n",
    "# set x axis limit\n",
    "plt.xlim(0, 10000)\n",
    "plt.show()"
   ]
  },
  {
   "cell_type": "markdown",
   "id": "dfae356e",
   "metadata": {},
   "source": [
    "## Sunspots Data"
   ]
  },
  {
   "cell_type": "code",
   "execution_count": 39,
   "id": "a101d1d2",
   "metadata": {},
   "outputs": [
    {
     "data": {
      "text/html": [
       "<div>\n",
       "<style scoped>\n",
       "    .dataframe tbody tr th:only-of-type {\n",
       "        vertical-align: middle;\n",
       "    }\n",
       "\n",
       "    .dataframe tbody tr th {\n",
       "        vertical-align: top;\n",
       "    }\n",
       "\n",
       "    .dataframe thead th {\n",
       "        text-align: right;\n",
       "    }\n",
       "</style>\n",
       "<table border=\"1\" class=\"dataframe\">\n",
       "  <thead>\n",
       "    <tr style=\"text-align: right;\">\n",
       "      <th></th>\n",
       "      <th>time-tag</th>\n",
       "      <th>ssn</th>\n",
       "      <th>smoothed_ssn</th>\n",
       "      <th>observed_swpc_ssn</th>\n",
       "      <th>smoothed_swpc_ssn</th>\n",
       "      <th>f10.7</th>\n",
       "      <th>smoothed_f10.7</th>\n",
       "    </tr>\n",
       "  </thead>\n",
       "  <tbody>\n",
       "    <tr>\n",
       "      <th>0</th>\n",
       "      <td>1749-01</td>\n",
       "      <td>96.7</td>\n",
       "      <td>-1.0</td>\n",
       "      <td>-1.00</td>\n",
       "      <td>-1.0</td>\n",
       "      <td>-1.00</td>\n",
       "      <td>-1.0</td>\n",
       "    </tr>\n",
       "    <tr>\n",
       "      <th>1</th>\n",
       "      <td>1749-02</td>\n",
       "      <td>104.3</td>\n",
       "      <td>-1.0</td>\n",
       "      <td>-1.00</td>\n",
       "      <td>-1.0</td>\n",
       "      <td>-1.00</td>\n",
       "      <td>-1.0</td>\n",
       "    </tr>\n",
       "    <tr>\n",
       "      <th>2</th>\n",
       "      <td>1749-03</td>\n",
       "      <td>116.7</td>\n",
       "      <td>-1.0</td>\n",
       "      <td>-1.00</td>\n",
       "      <td>-1.0</td>\n",
       "      <td>-1.00</td>\n",
       "      <td>-1.0</td>\n",
       "    </tr>\n",
       "    <tr>\n",
       "      <th>3</th>\n",
       "      <td>1749-04</td>\n",
       "      <td>92.8</td>\n",
       "      <td>-1.0</td>\n",
       "      <td>-1.00</td>\n",
       "      <td>-1.0</td>\n",
       "      <td>-1.00</td>\n",
       "      <td>-1.0</td>\n",
       "    </tr>\n",
       "    <tr>\n",
       "      <th>4</th>\n",
       "      <td>1749-05</td>\n",
       "      <td>141.7</td>\n",
       "      <td>-1.0</td>\n",
       "      <td>-1.00</td>\n",
       "      <td>-1.0</td>\n",
       "      <td>-1.00</td>\n",
       "      <td>-1.0</td>\n",
       "    </tr>\n",
       "    <tr>\n",
       "      <th>...</th>\n",
       "      <td>...</td>\n",
       "      <td>...</td>\n",
       "      <td>...</td>\n",
       "      <td>...</td>\n",
       "      <td>...</td>\n",
       "      <td>...</td>\n",
       "      <td>...</td>\n",
       "    </tr>\n",
       "    <tr>\n",
       "      <th>3311</th>\n",
       "      <td>2024-12</td>\n",
       "      <td>154.6</td>\n",
       "      <td>-1.0</td>\n",
       "      <td>134.90</td>\n",
       "      <td>-1.0</td>\n",
       "      <td>196.90</td>\n",
       "      <td>-1.0</td>\n",
       "    </tr>\n",
       "    <tr>\n",
       "      <th>3312</th>\n",
       "      <td>2025-01</td>\n",
       "      <td>137.0</td>\n",
       "      <td>-1.0</td>\n",
       "      <td>145.23</td>\n",
       "      <td>-1.0</td>\n",
       "      <td>189.39</td>\n",
       "      <td>-1.0</td>\n",
       "    </tr>\n",
       "    <tr>\n",
       "      <th>3313</th>\n",
       "      <td>2025-02</td>\n",
       "      <td>154.6</td>\n",
       "      <td>-1.0</td>\n",
       "      <td>152.64</td>\n",
       "      <td>-1.0</td>\n",
       "      <td>184.31</td>\n",
       "      <td>-1.0</td>\n",
       "    </tr>\n",
       "    <tr>\n",
       "      <th>3314</th>\n",
       "      <td>2025-03</td>\n",
       "      <td>134.2</td>\n",
       "      <td>-1.0</td>\n",
       "      <td>127.74</td>\n",
       "      <td>-1.0</td>\n",
       "      <td>163.78</td>\n",
       "      <td>-1.0</td>\n",
       "    </tr>\n",
       "    <tr>\n",
       "      <th>3315</th>\n",
       "      <td>2025-04</td>\n",
       "      <td>140.6</td>\n",
       "      <td>-1.0</td>\n",
       "      <td>124.10</td>\n",
       "      <td>-1.0</td>\n",
       "      <td>162.21</td>\n",
       "      <td>-1.0</td>\n",
       "    </tr>\n",
       "  </tbody>\n",
       "</table>\n",
       "<p>3316 rows × 7 columns</p>\n",
       "</div>"
      ],
      "text/plain": [
       "     time-tag    ssn  smoothed_ssn  observed_swpc_ssn  smoothed_swpc_ssn  \\\n",
       "0     1749-01   96.7          -1.0              -1.00               -1.0   \n",
       "1     1749-02  104.3          -1.0              -1.00               -1.0   \n",
       "2     1749-03  116.7          -1.0              -1.00               -1.0   \n",
       "3     1749-04   92.8          -1.0              -1.00               -1.0   \n",
       "4     1749-05  141.7          -1.0              -1.00               -1.0   \n",
       "...       ...    ...           ...                ...                ...   \n",
       "3311  2024-12  154.6          -1.0             134.90               -1.0   \n",
       "3312  2025-01  137.0          -1.0             145.23               -1.0   \n",
       "3313  2025-02  154.6          -1.0             152.64               -1.0   \n",
       "3314  2025-03  134.2          -1.0             127.74               -1.0   \n",
       "3315  2025-04  140.6          -1.0             124.10               -1.0   \n",
       "\n",
       "       f10.7  smoothed_f10.7  \n",
       "0      -1.00            -1.0  \n",
       "1      -1.00            -1.0  \n",
       "2      -1.00            -1.0  \n",
       "3      -1.00            -1.0  \n",
       "4      -1.00            -1.0  \n",
       "...      ...             ...  \n",
       "3311  196.90            -1.0  \n",
       "3312  189.39            -1.0  \n",
       "3313  184.31            -1.0  \n",
       "3314  163.78            -1.0  \n",
       "3315  162.21            -1.0  \n",
       "\n",
       "[3316 rows x 7 columns]"
      ]
     },
     "execution_count": 39,
     "metadata": {},
     "output_type": "execute_result"
    }
   ],
   "source": [
    "# sunspots data \n",
    "\n",
    "# import observed-solar-cycle-indices.json file \n",
    "import json\n",
    "\n",
    "with open('observed-solar-cycle-indices.json') as f:\n",
    "    sunspots = json.load(f)\n",
    "\n",
    "# convert to dataframe\n",
    "sunspots_df = pd.DataFrame(sunspots)\n",
    "\n",
    "sunspots_df"
   ]
  },
  {
   "cell_type": "code",
   "execution_count": null,
   "id": "413e7f0e",
   "metadata": {},
   "outputs": [
    {
     "data": {
      "text/html": [
       "<div>\n",
       "<style scoped>\n",
       "    .dataframe tbody tr th:only-of-type {\n",
       "        vertical-align: middle;\n",
       "    }\n",
       "\n",
       "    .dataframe tbody tr th {\n",
       "        vertical-align: top;\n",
       "    }\n",
       "\n",
       "    .dataframe thead th {\n",
       "        text-align: right;\n",
       "    }\n",
       "</style>\n",
       "<table border=\"1\" class=\"dataframe\">\n",
       "  <thead>\n",
       "    <tr style=\"text-align: right;\">\n",
       "      <th></th>\n",
       "      <th>YEAR</th>\n",
       "      <th>month</th>\n",
       "      <th>ADJ_HA</th>\n",
       "    </tr>\n",
       "  </thead>\n",
       "  <tbody>\n",
       "    <tr>\n",
       "      <th>0</th>\n",
       "      <td>1972</td>\n",
       "      <td>1</td>\n",
       "      <td>0.000000</td>\n",
       "    </tr>\n",
       "    <tr>\n",
       "      <th>1</th>\n",
       "      <td>1972</td>\n",
       "      <td>2</td>\n",
       "      <td>0.000000</td>\n",
       "    </tr>\n",
       "    <tr>\n",
       "      <th>2</th>\n",
       "      <td>1972</td>\n",
       "      <td>3</td>\n",
       "      <td>56.418211</td>\n",
       "    </tr>\n",
       "    <tr>\n",
       "      <th>3</th>\n",
       "      <td>1972</td>\n",
       "      <td>4</td>\n",
       "      <td>194.113486</td>\n",
       "    </tr>\n",
       "    <tr>\n",
       "      <th>4</th>\n",
       "      <td>1972</td>\n",
       "      <td>5</td>\n",
       "      <td>77390.522517</td>\n",
       "    </tr>\n",
       "    <tr>\n",
       "      <th>...</th>\n",
       "      <td>...</td>\n",
       "      <td>...</td>\n",
       "      <td>...</td>\n",
       "    </tr>\n",
       "    <tr>\n",
       "      <th>619</th>\n",
       "      <td>2023</td>\n",
       "      <td>8</td>\n",
       "      <td>757163.129927</td>\n",
       "    </tr>\n",
       "    <tr>\n",
       "      <th>620</th>\n",
       "      <td>2023</td>\n",
       "      <td>9</td>\n",
       "      <td>53266.698045</td>\n",
       "    </tr>\n",
       "    <tr>\n",
       "      <th>621</th>\n",
       "      <td>2023</td>\n",
       "      <td>10</td>\n",
       "      <td>193.084998</td>\n",
       "    </tr>\n",
       "    <tr>\n",
       "      <th>622</th>\n",
       "      <td>2023</td>\n",
       "      <td>11</td>\n",
       "      <td>63.953306</td>\n",
       "    </tr>\n",
       "    <tr>\n",
       "      <th>623</th>\n",
       "      <td>2023</td>\n",
       "      <td>12</td>\n",
       "      <td>346.796619</td>\n",
       "    </tr>\n",
       "  </tbody>\n",
       "</table>\n",
       "<p>624 rows × 3 columns</p>\n",
       "</div>"
      ],
      "text/plain": [
       "     YEAR  month         ADJ_HA\n",
       "0    1972      1       0.000000\n",
       "1    1972      2       0.000000\n",
       "2    1972      3      56.418211\n",
       "3    1972      4     194.113486\n",
       "4    1972      5   77390.522517\n",
       "..    ...    ...            ...\n",
       "619  2023      8  757163.129927\n",
       "620  2023      9   53266.698045\n",
       "621  2023     10     193.084998\n",
       "622  2023     11      63.953306\n",
       "623  2023     12     346.796619\n",
       "\n",
       "[624 rows x 3 columns]"
      ]
     },
     "execution_count": 65,
     "metadata": {},
     "output_type": "execute_result"
    }
   ],
   "source": [
    "# select only the fires with a date\n",
    "df_no_na = df[df['AG_SDATE'].notnull()]\n",
    "\n",
    "# group by year and the month\n",
    "df_grouped_nona = df_no_na.groupby(['YEAR', 'month']).agg({'ADJ_HA': 'sum'}).reset_index()\n",
    "\n",
    "# for the missing months in the years add the rows and fill with 0\n",
    "months = [1, 2, 3, 4, 5, 6, 7, 8, 9, 10, 11, 12]\n",
    "years = df_grouped_nona['YEAR'].unique()\n",
    "# create a new dataframe with all the months and years\n",
    "df_all_months = pd.DataFrame(\n",
    "    [(year, month) for year in years for month in months],\n",
    "    columns=['YEAR', 'month']\n",
    ")\n",
    "# merge the two dataframes\n",
    "df_grouped_nona = pd.merge(\n",
    "    df_all_months,\n",
    "    df_grouped_nona,\n",
    "    on=['YEAR', 'month'],\n",
    "    how='left'\n",
    ")\n",
    "# fill the missing values with 0\n",
    "df_grouped_nona['ADJ_HA'] = df_grouped_nona['ADJ_HA'].fillna(0)\n",
    "# make a new column for the month\n",
    "df_grouped_nona['month'] = df_grouped_nona['month'].astype(int)\n",
    "# make a new column for the year\n",
    "df_grouped_nona['YEAR'] = df_grouped_nona['YEAR'].astype(int)"
   ]
  },
  {
   "cell_type": "code",
   "execution_count": null,
   "id": "b59c1409",
   "metadata": {},
   "outputs": [],
   "source": [
    "# change time-tag to datetime from sunpots df\n",
    "sunspots_df['time-tag'] = pd.to_datetime(sunspots_df['time-tag'], format='%Y-%m')\n",
    "\n",
    "# subset the sunspots df to the years in the df_grouped_nona\n",
    "sunspots_df = sunspots_df[sunspots_df['time-tag'].dt.year.isin(df_grouped_nona['YEAR'].unique())]\n",
    "\n",
    "# make a new column for the month\n",
    "x_exog = sunspots_df['ssn']\n",
    "\n",
    "# time series of the burned area\n",
    "y = df_grouped_nona['ADJ_HA']"
   ]
  },
  {
   "cell_type": "code",
   "execution_count": 88,
   "id": "6d1ad550",
   "metadata": {},
   "outputs": [],
   "source": [
    "# Ensure YEAR and month are combined into a datetime index\n",
    "df_grouped_nona['date'] = pd.to_datetime(df_grouped_nona[['YEAR', 'month']].assign(day=1))\n",
    "df_grouped_nona.set_index('date', inplace=True)\n",
    "\n",
    "# Update y to use the datetime index\n",
    "y = df_grouped_nona['ADJ_HA']"
   ]
  },
  {
   "cell_type": "code",
   "execution_count": 89,
   "id": "6796a45d",
   "metadata": {},
   "outputs": [
    {
     "data": {
      "image/png": "[encoded data removed]",
      "text/plain": [
       "<Figure size 432x288 with 4 Axes>"
      ]
     },
     "metadata": {
      "needs_background": "light"
     },
     "output_type": "display_data"
    }
   ],
   "source": [
    "decomposition = seasonal_decompose(y, model='additive')\n",
    "fig = decomposition.plot()\n",
    "plt.show()"
   ]
  },
  {
   "cell_type": "code",
   "execution_count": null,
   "id": "ee4d74bc",
   "metadata": {},
   "outputs": [],
   "source": [
    "# Define the search space.\n",
    "p = range(1, 6)\n",
    "d = range(0, 2)\n",
    "q = range(0, 2)\n",
    "\n",
    "# Create an interative list of ps, ds, qs.\n",
    "from itertools import product\n",
    "pdq = list(product(p, d, q))\n",
    "\n",
    "# Seasonal parameters. One year back.\n",
    "ps = range(0, 4)\n",
    "ds = range(0, 1)\n",
    "qs = range(0, 1)\n",
    "seasonal_pdq = [(x[0], x[1], x[2], 12) for x in list(product(ps, ds, qs))]\n",
    "\n",
    "y = df_grouped_nona['ADJ_HA']\n",
    "\n",
    "aic_out = []\n",
    "\n",
    "for param in pdq:\n",
    "  for param_seasonal in seasonal_pdq:\n",
    "      mod = SARIMAX(y,\n",
    "                    exog=np.asarray(x_exog),\n",
    "                    order=param,\n",
    "                    seasonal_order=param_seasonal,\n",
    "                    enforce_stationarity=True,\n",
    "                    enforce_invertibility=False\n",
    "                    )\n",
    "      results = mod.fit(verbose=False)\n",
    "      aic_out.append([param, param_seasonal, results.aic])\n",
    "      print('ARIMA{}x{}12 - AIC:{}'.format(param, param_seasonal, results.aic))\n",
    "\n",
    "# Nicer formatting\n",
    "aic_out = pd.DataFrame(aic_out,\n",
    "                       columns = ['(p,q,r)', '(ps, qs, rs, S)', 'AIC'])"
   ]
  },
  {
   "cell_type": "code",
   "execution_count": 78,
   "id": "b1550d3f",
   "metadata": {},
   "outputs": [
    {
     "data": {
      "text/html": [
       "<div>\n",
       "<style scoped>\n",
       "    .dataframe tbody tr th:only-of-type {\n",
       "        vertical-align: middle;\n",
       "    }\n",
       "\n",
       "    .dataframe tbody tr th {\n",
       "        vertical-align: top;\n",
       "    }\n",
       "\n",
       "    .dataframe thead th {\n",
       "        text-align: right;\n",
       "    }\n",
       "</style>\n",
       "<table border=\"1\" class=\"dataframe\">\n",
       "  <thead>\n",
       "    <tr style=\"text-align: right;\">\n",
       "      <th></th>\n",
       "      <th>(p,q,r)</th>\n",
       "      <th>(ps, qs, rs, S)</th>\n",
       "      <th>AIC</th>\n",
       "    </tr>\n",
       "  </thead>\n",
       "  <tbody>\n",
       "    <tr>\n",
       "      <th>22</th>\n",
       "      <td>(2, 0, 1)</td>\n",
       "      <td>(2, 0, 0, 12)</td>\n",
       "      <td>17817.587847</td>\n",
       "    </tr>\n",
       "    <tr>\n",
       "      <th>34</th>\n",
       "      <td>(3, 0, 0)</td>\n",
       "      <td>(2, 0, 0, 12)</td>\n",
       "      <td>17817.872587</td>\n",
       "    </tr>\n",
       "    <tr>\n",
       "      <th>18</th>\n",
       "      <td>(2, 0, 0)</td>\n",
       "      <td>(2, 0, 0, 12)</td>\n",
       "      <td>17817.975618</td>\n",
       "    </tr>\n",
       "    <tr>\n",
       "      <th>23</th>\n",
       "      <td>(2, 0, 1)</td>\n",
       "      <td>(3, 0, 0, 12)</td>\n",
       "      <td>17818.280675</td>\n",
       "    </tr>\n",
       "    <tr>\n",
       "      <th>35</th>\n",
       "      <td>(3, 0, 0)</td>\n",
       "      <td>(3, 0, 0, 12)</td>\n",
       "      <td>17818.367101</td>\n",
       "    </tr>\n",
       "    <tr>\n",
       "      <th>...</th>\n",
       "      <td>...</td>\n",
       "      <td>...</td>\n",
       "      <td>...</td>\n",
       "    </tr>\n",
       "    <tr>\n",
       "      <th>72</th>\n",
       "      <td>(5, 1, 0)</td>\n",
       "      <td>(0, 0, 0, 12)</td>\n",
       "      <td>17978.632282</td>\n",
       "    </tr>\n",
       "    <tr>\n",
       "      <th>56</th>\n",
       "      <td>(4, 1, 0)</td>\n",
       "      <td>(0, 0, 0, 12)</td>\n",
       "      <td>17987.196279</td>\n",
       "    </tr>\n",
       "    <tr>\n",
       "      <th>40</th>\n",
       "      <td>(3, 1, 0)</td>\n",
       "      <td>(0, 0, 0, 12)</td>\n",
       "      <td>18001.313472</td>\n",
       "    </tr>\n",
       "    <tr>\n",
       "      <th>24</th>\n",
       "      <td>(2, 1, 0)</td>\n",
       "      <td>(0, 0, 0, 12)</td>\n",
       "      <td>18028.440231</td>\n",
       "    </tr>\n",
       "    <tr>\n",
       "      <th>8</th>\n",
       "      <td>(1, 1, 0)</td>\n",
       "      <td>(0, 0, 0, 12)</td>\n",
       "      <td>18043.681877</td>\n",
       "    </tr>\n",
       "  </tbody>\n",
       "</table>\n",
       "<p>80 rows × 3 columns</p>\n",
       "</div>"
      ],
      "text/plain": [
       "      (p,q,r) (ps, qs, rs, S)           AIC\n",
       "22  (2, 0, 1)   (2, 0, 0, 12)  17817.587847\n",
       "34  (3, 0, 0)   (2, 0, 0, 12)  17817.872587\n",
       "18  (2, 0, 0)   (2, 0, 0, 12)  17817.975618\n",
       "23  (2, 0, 1)   (3, 0, 0, 12)  17818.280675\n",
       "35  (3, 0, 0)   (3, 0, 0, 12)  17818.367101\n",
       "..        ...             ...           ...\n",
       "72  (5, 1, 0)   (0, 0, 0, 12)  17978.632282\n",
       "56  (4, 1, 0)   (0, 0, 0, 12)  17987.196279\n",
       "40  (3, 1, 0)   (0, 0, 0, 12)  18001.313472\n",
       "24  (2, 1, 0)   (0, 0, 0, 12)  18028.440231\n",
       "8   (1, 1, 0)   (0, 0, 0, 12)  18043.681877\n",
       "\n",
       "[80 rows x 3 columns]"
      ]
     },
     "execution_count": 78,
     "metadata": {},
     "output_type": "execute_result"
    }
   ],
   "source": [
    "# Nicer formatting\n",
    "aic_out = pd.DataFrame(aic_out,\n",
    "                       columns = ['(p,q,r)', '(ps, qs, rs, S)', 'AIC'])\n",
    "\n",
    "aic_out.sort_values(by='AIC', ascending=True)"
   ]
  },
  {
   "cell_type": "code",
   "execution_count": 79,
   "id": "92141074",
   "metadata": {},
   "outputs": [
    {
     "name": "stderr",
     "output_type": "stream",
     "text": [
      " This problem is unconstrained.\n"
     ]
    },
    {
     "name": "stdout",
     "output_type": "stream",
     "text": [
      "RUNNING THE L-BFGS-B CODE\n",
      "\n",
      "           * * *\n",
      "\n",
      "Machine precision = 2.220D-16\n",
      " N =            7     M =           10\n",
      "\n",
      "At X0         0 variables are exactly at the bounds\n",
      "\n",
      "At iterate    0    f=  1.42823D+01    |proj g|=  8.63759D-02\n",
      "\n",
      "At iterate    5    f=  1.42658D+01    |proj g|=  5.09485D-04\n",
      "\n",
      "At iterate   10    f=  1.42657D+01    |proj g|=  3.58214D-03\n",
      "\n",
      "At iterate   15    f=  1.42657D+01    |proj g|=  3.90232D-05\n",
      "\n",
      "           * * *\n",
      "\n",
      "Tit   = total number of iterations\n",
      "Tnf   = total number of function evaluations\n",
      "Tnint = total number of segments explored during Cauchy searches\n",
      "Skip  = number of BFGS updates skipped\n",
      "Nact  = number of active bounds at final generalized Cauchy point\n",
      "Projg = norm of the final projected gradient\n",
      "F     = final function value\n",
      "\n",
      "           * * *\n",
      "\n",
      "   N    Tit     Tnf  Tnint  Skip  Nact     Projg        F\n",
      "    7     15     18      1     0     0   3.902D-05   1.427D+01\n",
      "  F =   14.265695389130519     \n",
      "\n",
      "CONVERGENCE: REL_REDUCTION_OF_F_<=_FACTR*EPSMCH             \n",
      "                                      SARIMAX Results                                      \n",
      "===========================================================================================\n",
      "Dep. Variable:                              ADJ_HA   No. Observations:                  624\n",
      "Model:             SARIMAX(2, 0, 1)x(2, 0, [], 12)   Log Likelihood               -8901.794\n",
      "Date:                             Thu, 08 May 2025   AIC                          17817.588\n",
      "Time:                                     19:29:46   BIC                          17848.641\n",
      "Sample:                                          0   HQIC                         17829.655\n",
      "                                             - 624                                         \n",
      "Covariance Type:                               opg                                         \n",
      "==============================================================================\n",
      "                 coef    std err          z      P>|z|      [0.025      0.975]\n",
      "------------------------------------------------------------------------------\n",
      "x1          1471.5104    437.858      3.361      0.001     613.325    2329.696\n",
      "ar.L1          1.1018      0.699      1.577      0.115      -0.267       2.471\n",
      "ar.L2         -0.3557      0.338     -1.052      0.293      -1.019       0.307\n",
      "ma.L1         -0.5969      0.704     -0.848      0.396      -1.976       0.782\n",
      "ar.S.L12       0.2945      0.029     10.078      0.000       0.237       0.352\n",
      "ar.S.L24       0.2314      0.034      6.866      0.000       0.165       0.297\n",
      "sigma2       1.67e+11   2.65e-05   6.29e+15      0.000    1.67e+11    1.67e+11\n",
      "===================================================================================\n",
      "Ljung-Box (L1) (Q):                   0.01   Jarque-Bera (JB):             45816.36\n",
      "Prob(Q):                              0.92   Prob(JB):                         0.00\n",
      "Heteroskedasticity (H):               4.84   Skew:                             4.60\n",
      "Prob(H) (two-sided):                  0.00   Kurtosis:                        43.96\n",
      "===================================================================================\n",
      "\n",
      "Warnings:\n",
      "[1] Covariance matrix calculated using the outer product of gradients (complex-step).\n",
      "[2] Covariance matrix is singular or near-singular, with condition number 2.57e+30. Standard errors may be unstable.\n"
     ]
    }
   ],
   "source": [
    "# Fit the SARIMAX model\n",
    "mod = SARIMAX(y, exog=np.asarray(x_exog), order=(2, 0, 1), seasonal_order=(2, 0, 0, 12))\n",
    "results = mod.fit()\n",
    "\n",
    "# Print the summary\n",
    "print(results.summary())"
   ]
  },
  {
   "cell_type": "markdown",
   "id": "4b060fe5",
   "metadata": {},
   "source": [
    "## 2023 "
   ]
  },
  {
   "cell_type": "code",
   "execution_count": 33,
   "id": "5a799759",
   "metadata": {},
   "outputs": [
    {
     "data": {
      "image/png": "[encoded data removed]",
      "text/plain": [
       "<Figure size 720x432 with 1 Axes>"
      ]
     },
     "metadata": {
      "needs_background": "light"
     },
     "output_type": "display_data"
    }
   ],
   "source": [
    "df_2023 = df[df['YEAR'] == 2023]\n",
    "\n",
    "# drop the rows with null values in HS_SDATE or HS_EDATE\n",
    "df_2023 = df_2023.dropna(subset=['HS_SDATE', 'HS_EDATE'])\n",
    "\n",
    "# group by the month \n",
    "df_2023_grouped = df_2023.groupby('month').agg(\n",
    "    {'ADJ_HA': 'sum', 'HS_MID': 'count'}\n",
    ").reset_index()\n",
    "\n",
    "df_2023_grouped\n",
    "\n",
    "# plot the data\n",
    "plt.figure(figsize=(10, 6))\n",
    "plt.bar(df_2023_grouped['month'], df_2023_grouped['ADJ_HA'], color='blue', alpha=0.7, label='ADJ_HA')\n",
    "plt.title('ADJ_HA by Month in 2023')\n",
    "plt.xlabel('Month')\n",
    "plt.ylabel('Value')\n",
    "plt.xticks(df_2023_grouped['month'], ['Mar', 'Apr', 'May', 'Jun', 'Jul', 'Aug', 'Sep', 'Oct', 'Nov'])\n",
    "plt.legend()\n",
    "plt.grid()\n",
    "plt.tight_layout()\n",
    "plt.show()"
   ]
  },
  {
   "cell_type": "markdown",
   "id": "843a0e5d",
   "metadata": {},
   "source": [
    "## 1997"
   ]
  },
  {
   "cell_type": "code",
   "execution_count": 37,
   "id": "fef0b233",
   "metadata": {},
   "outputs": [
    {
     "data": {
      "image/png": "[encoded data removed]",
      "text/plain": [
       "<Figure size 720x432 with 1 Axes>"
      ]
     },
     "metadata": {
      "needs_background": "light"
     },
     "output_type": "display_data"
    }
   ],
   "source": [
    "df_2023 = df[df['YEAR'] == 1997]\n",
    "\n",
    "# drop the rows with null values in HS_SDATE or HS_EDATE\n",
    "df_2023 = df_2023.dropna(subset=['HS_SDATE', 'HS_EDATE'])\n",
    "\n",
    "# group by the month \n",
    "df_2023_grouped = df_2023.groupby('month').agg(\n",
    "    {'ADJ_HA': 'sum', 'HS_MID': 'count'}\n",
    ").reset_index()\n",
    "\n",
    "df_2023_grouped\n",
    "\n",
    "# plot the data\n",
    "plt.figure(figsize=(10, 6))\n",
    "plt.bar(df_2023_grouped['month'], df_2023_grouped['ADJ_HA'], color='blue', alpha=0.7, label='ADJ_HA')\n",
    "plt.title('ADJ_HA by Month in 1997')\n",
    "plt.xlabel('Month')\n",
    "plt.ylabel('Value')\n",
    "plt.xticks(df_2023_grouped['month'], ['May', 'Jun', 'Jul', 'Aug', 'Sep'])\n",
    "plt.legend()\n",
    "plt.grid()\n",
    "plt.tight_layout()\n",
    "plt.show()"
   ]
  },
  {
   "cell_type": "markdown",
   "id": "a3105ec7",
   "metadata": {},
   "source": [
    "## 1989"
   ]
  },
  {
   "cell_type": "code",
   "execution_count": 36,
   "id": "2903802b",
   "metadata": {},
   "outputs": [
    {
     "data": {
      "image/png": "[encoded data removed]",
      "text/plain": [
       "<Figure size 720x432 with 1 Axes>"
      ]
     },
     "metadata": {
      "needs_background": "light"
     },
     "output_type": "display_data"
    }
   ],
   "source": [
    "df_2023 = df[df['YEAR'] == 1989]\n",
    "\n",
    "# drop the rows with null values in HS_SDATE or HS_EDATE\n",
    "df_2023 = df_2023.dropna(subset=['HS_SDATE', 'HS_EDATE'])\n",
    "\n",
    "# group by the month \n",
    "df_2023_grouped = df_2023.groupby('month').agg(\n",
    "    {'ADJ_HA': 'sum', 'HS_MID': 'count'}\n",
    ").reset_index()\n",
    "\n",
    "df_2023_grouped\n",
    "\n",
    "# plot the data\n",
    "plt.figure(figsize=(10, 6))\n",
    "plt.bar(df_2023_grouped['month'], df_2023_grouped['ADJ_HA'], color='blue', alpha=0.7, label='ADJ_HA')\n",
    "plt.title('ADJ_HA by Month in 1997')\n",
    "plt.xlabel('Month')\n",
    "plt.ylabel('Value')\n",
    "plt.xticks(df_2023_grouped['month'], ['May', 'Jun', 'Jul', 'Aug', 'Sep'])\n",
    "plt.legend()\n",
    "plt.grid()\n",
    "plt.tight_layout()\n",
    "plt.show()"
   ]
  },
  {
   "cell_type": "code",
   "execution_count": null,
   "id": "e0487b2a",
   "metadata": {},
   "outputs": [
    {
     "data": {
      "text/plain": [
       "0.5284302608132189"
      ]
     },
     "execution_count": 44,
     "metadata": {},
     "output_type": "execute_result"
    }
   ],
   "source": [
    "\n",
    "# get data from before 2006\n",
    "df_before = df[df['before_after_2006'] == 'before']\n",
    "\n",
    "# percentage of fires less than 100 ha burned\n",
    "np.mean(df_before['POLY_HA'] < 100)\n",
    "\n"
   ]
  },
  {
   "cell_type": "code",
   "execution_count": null,
   "id": "9bd18641",
   "metadata": {},
   "outputs": [
    {
     "data": {
      "image/png": "[encoded data removed]",
      "text/plain": [
       "<Figure size 864x432 with 1 Axes>"
      ]
     },
     "metadata": {
      "needs_background": "light"
     },
     "output_type": "display_data"
    }
   ],
   "source": [
    "# make bar graph of total ADJ_HA by year\n",
    "df_grouped = df.groupby('YEAR')['ADJ_HA'].sum().reset_index()\n",
    "plt.figure(figsize=(12, 6))\n",
    "plt.bar(df_grouped['YEAR'], df_grouped['ADJ_HA'], color='blue', edgecolor='black')\n",
    "plt.title(\"Total Area Burned by Year (ADJ_HA)\")\n",
    "plt.xlabel(\"Year\")\n",
    "plt.ylabel(\"Total Area Burned (ha)\")\n",
    "plt.xticks(rotation=45)\n",
    "plt.grid(axis='y')\n",
    "plt.tight_layout()\n",
    "plt.show()\n"
   ]
  },
  {
   "cell_type": "code",
   "execution_count": 9,
   "id": "551cfad7",
   "metadata": {},
   "outputs": [
    {
     "data": {
      "image/png": "[encoded data removed]",
      "text/plain": [
       "<Figure size 864x432 with 1 Axes>"
      ]
     },
     "metadata": {
      "needs_background": "light"
     },
     "output_type": "display_data"
    }
   ],
   "source": [
    "# total number of fires by year\n",
    "df_grouped = df.groupby('YEAR')['NFIREID'].count().reset_index()\n",
    "plt.figure(figsize=(12, 6))\n",
    "plt.bar(df_grouped['YEAR'], df_grouped['NFIREID'], color='red', edgecolor='black')\n",
    "plt.title(\"Total Number of Fires by Year\")\n",
    "plt.xlabel(\"Year\")\n",
    "plt.ylabel(\"Total Number of Fires\")\n",
    "plt.xticks(rotation=45)\n",
    "plt.grid(axis='y')\n",
    "plt.tight_layout()\n",
    "plt.show()"
   ]
  },
  {
   "cell_type": "code",
   "execution_count": 10,
   "id": "501a4621",
   "metadata": {},
   "outputs": [
    {
     "data": {
      "image/png": "[encoded data removed]",
      "text/plain": [
       "<Figure size 864x432 with 1 Axes>"
      ]
     },
     "metadata": {
      "needs_background": "light"
     },
     "output_type": "display_data"
    }
   ],
   "source": [
    "# make a plot average fire size by year\n",
    "df_grouped = df.groupby('YEAR')['ADJ_HA'].mean().reset_index()\n",
    "plt.figure(figsize=(12, 6))\n",
    "plt.bar(df_grouped['YEAR'], df_grouped['ADJ_HA'], color='green', edgecolor='black')\n",
    "plt.title(\"Average Fire Size by Year (ADJ_HA)\")\n",
    "plt.xlabel(\"Year\")\n",
    "plt.ylabel(\"Average Fire Size (ha)\")\n",
    "plt.xticks(rotation=45)\n",
    "plt.grid(axis='y')\n",
    "plt.tight_layout()\n",
    "plt.show()"
   ]
  },
  {
   "cell_type": "code",
   "execution_count": 38,
   "id": "9b03d2b4",
   "metadata": {},
   "outputs": [
    {
     "data": {
      "image/png": "[encoded data removed]",
      "text/plain": [
       "<Figure size 864x432 with 1 Axes>"
      ]
     },
     "metadata": {
      "needs_background": "light"
     },
     "output_type": "display_data"
    }
   ],
   "source": [
    "# make a distribution of the fire sizes make two distributions for up to 2006 and after 2007\n",
    "# make kde overlay\n",
    "# cut off for only values less than 200000\n",
    "# restrict distribution to positive\n",
    "import seaborn as sns\n",
    "df_before_2007 = df[df['YEAR'] <= 2006]\n",
    "df_after_2007 = df[df['YEAR'] > 2006]\n",
    "df_before_2007 = df_before_2007[df_before_2007['ADJ_HA'] < 1000]\n",
    "df_after_2007 = df_after_2007[df_after_2007['ADJ_HA'] < 1000]\n",
    "plt.figure(figsize=(12, 6))\n",
    "sns.kdeplot(df_before_2007['ADJ_HA'], color='blue', label='Before 2006', fill=True, alpha=0.5, clip=(0, None))\n",
    "sns.kdeplot(df_after_2007['ADJ_HA'], color='red', label='After 2006', fill=True, alpha=0.5, clip=(0, None))\n",
    "plt.title(\"Distribution of Fire Sizes Before and After 2006\")\n",
    "plt.xlabel(\"Fire Size (ha)\")\n",
    "plt.ylabel(\"Density\")\n",
    "plt.legend()\n",
    "plt.grid(True)\n",
    "plt.tight_layout()\n",
    "plt.show()\n",
    "\n"
   ]
  },
  {
   "cell_type": "code",
   "execution_count": 96,
   "id": "3e96bdfe",
   "metadata": {},
   "outputs": [
    {
     "data": {
      "image/png": "[encoded data removed]",
      "text/plain": [
       "<Figure size 864x432 with 1 Axes>"
      ]
     },
     "metadata": {
      "needs_background": "light"
     },
     "output_type": "display_data"
    }
   ],
   "source": [
    "# group by year and before_after 2006 and sum the ADJ_HA\n",
    "df_grouped = df.groupby(['YEAR', 'before_after_2006'])['ADJ_HA'].sum().reset_index()\n",
    "\n",
    "# get the average fire size by year and before_after_2006\n",
    "df_grouped_avg = df_grouped.groupby(['before_after_2006'])['ADJ_HA'].mean().reset_index()\n",
    "\n",
    "# make a bar graph of the average fire size by year and before_after_2006\n",
    "plt.figure(figsize=(12, 6))\n",
    "plt.bar(df_grouped_avg['before_after_2006'], df_grouped_avg['ADJ_HA'], color='blue', edgecolor='black')\n",
    "plt.title(\"Average Fire Size by Year and Before/After 2006\")\n",
    "plt.xlabel(\"Year\")\n",
    "plt.ylabel(\"Average Fire Size (ha)\")\n",
    "plt.xticks(rotation=45)\n",
    "plt.grid(axis='y')\n",
    "plt.tight_layout()\n",
    "plt.show()\n"
   ]
  },
  {
   "cell_type": "code",
   "execution_count": 103,
   "id": "aad9a771",
   "metadata": {},
   "outputs": [
    {
     "data": {
      "image/png": "[encoded data removed]",
      "text/plain": [
       "<Figure size 720x432 with 1 Axes>"
      ]
     },
     "metadata": {
      "needs_background": "light"
     },
     "output_type": "display_data"
    }
   ],
   "source": [
    "# group by year and before_after 2006 and sum the ADJ_HA\n",
    "df_grouped_cause = df.groupby(['YEAR', 'before_after_2006', 'FIRECAUS'])['ADJ_HA'].sum().reset_index()\n",
    "\n",
    "df_bar = df_grouped_cause.groupby(['before_after_2006', 'FIRECAUS'])['ADJ_HA'].mean().reset_index()\n",
    "\n",
    "# visualize in a side by side bar plot\n",
    "# Create a side-by-side bar plot\n",
    "plt.figure(figsize=(10, 6))\n",
    "sns.barplot(\n",
    "    data=df_bar,\n",
    "    x='FIRECAUS',\n",
    "    y='ADJ_HA',\n",
    "    hue='before_after_2006',\n",
    "    palette='Set2'\n",
    ")\n",
    "\n",
    "# Add titles and labels\n",
    "plt.title(\"Average Yearly Area Burned by Cause (Before and After 2006)\")\n",
    "plt.xlabel(\"Fire Cause\")\n",
    "plt.ylabel(\"Average Area Burned (ha)\")\n",
    "plt.xticks(rotation=45)\n",
    "plt.legend(title=\"Period\")\n",
    "plt.tight_layout()\n",
    "\n",
    "# Show the plot\n",
    "plt.show()\n"
   ]
  },
  {
   "cell_type": "code",
   "execution_count": 40,
   "id": "7323e3c6",
   "metadata": {},
   "outputs": [
    {
     "data": {
      "image/png": "[encoded data removed]",
      "text/plain": [
       "<Figure size 864x432 with 1 Axes>"
      ]
     },
     "metadata": {
      "needs_background": "light"
     },
     "output_type": "display_data"
    }
   ],
   "source": [
    "total_by_period = df_grouped.groupby('before_after_2006')['ADJ_HA'].transform('sum')\n",
    "\n",
    "# Add a new column for percentages\n",
    "df_grouped['PERCENTAGE'] = (df_grouped['ADJ_HA'] / total_by_period) * 100\n",
    "\n",
    "# Create a side-by-side barplot with percentages\n",
    "plt.figure(figsize=(12, 6))\n",
    "sns.barplot(\n",
    "    data=df_grouped,\n",
    "    x='FIRECAUS',\n",
    "    y='PERCENTAGE',\n",
    "    hue='before_after_2006',\n",
    "    palette='Set2'\n",
    ")\n",
    "\n",
    "# Add titles and labels\n",
    "plt.title(\"Percentage of Area Burned by Cause (Before and After 2006)\")\n",
    "plt.xlabel(\"Fire Cause\")\n",
    "plt.ylabel(\"Percentage of Total Area Burned (%)\")\n",
    "plt.xticks(rotation=45)\n",
    "plt.legend(title=\"Period\")\n",
    "plt.tight_layout()\n",
    "\n",
    "# Show the plot\n",
    "plt.show()"
   ]
  }
 ],
 "metadata": {
  "kernelspec": {
   "display_name": "poisson_fire",
   "language": "python",
   "name": "python3"
  },
  "language_info": {
   "codemirror_mode": {
    "name": "ipython",
    "version": 3
   },
   "file_extension": ".py",
   "mimetype": "text/x-python",
   "name": "python",
   "nbconvert_exporter": "python",
   "pygments_lexer": "ipython3",
   "version": "3.11.11"
  }
 },
 "nbformat": 4,
 "nbformat_minor": 5
}
